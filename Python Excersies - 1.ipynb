{
 "cells": [
  {
   "cell_type": "code",
   "execution_count": 1,
   "metadata": {},
   "outputs": [],
   "source": [
    "# write a program to add two  integers 10 , 20"
   ]
  },
  {
   "cell_type": "code",
   "execution_count": null,
   "metadata": {},
   "outputs": [],
   "source": []
  },
  {
   "cell_type": "code",
   "execution_count": 2,
   "metadata": {},
   "outputs": [],
   "source": [
    "# Write a program to find the type of a, b ,c where a=2, b=2.8,c=\"John\""
   ]
  },
  {
   "cell_type": "code",
   "execution_count": null,
   "metadata": {},
   "outputs": [],
   "source": []
  },
  {
   "cell_type": "code",
   "execution_count": 3,
   "metadata": {},
   "outputs": [],
   "source": [
    "# Write a program to swap the two numbers , where a=2 ,b=4 the program should print a= 4 ,b=2"
   ]
  },
  {
   "cell_type": "code",
   "execution_count": 3,
   "metadata": {},
   "outputs": [
    {
     "name": "stdout",
     "output_type": "stream",
     "text": [
      "4\n",
      "2\n"
     ]
    }
   ],
   "source": [
    "a=2\n",
    "b=4\n",
    "temp=a\n",
    "a=b\n",
    "b=temp\n",
    "print(a)\n",
    "print(b)"
   ]
  },
  {
   "cell_type": "code",
   "execution_count": 4,
   "metadata": {},
   "outputs": [],
   "source": [
    "# Write a program to swap the two numbers , using 3 variables"
   ]
  },
  {
   "cell_type": "code",
   "execution_count": 2,
   "metadata": {},
   "outputs": [
    {
     "name": "stdout",
     "output_type": "stream",
     "text": [
      "4\n",
      "2\n"
     ]
    }
   ],
   "source": [
    "a=2\n",
    "b=4\n",
    "temp=a\n",
    "a=b\n",
    "b=temp\n",
    "print(a)\n",
    "print(b)"
   ]
  },
  {
   "cell_type": "code",
   "execution_count": 5,
   "metadata": {},
   "outputs": [],
   "source": [
    "# Write a program to print the numerator and denominator , quotient and remainder"
   ]
  },
  {
   "cell_type": "code",
   "execution_count": 4,
   "metadata": {},
   "outputs": [
    {
     "name": "stdout",
     "output_type": "stream",
     "text": [
      "numarator 100\n",
      "denominator 10\n",
      "quotient 10\n",
      "remainder 0.0\n"
     ]
    }
   ],
   "source": [
    "numerator= 100\n",
    "denominator= 10\n",
    "quotient= int(numerator/denominator)\n",
    "remainder= float(numerator%denominator)\n",
    " \n",
    "print(\"numarator\",numerator)\n",
    "print(\"denominator\",denominator)\n",
    "print(\"quotient\",quotient)\n",
    "print(\"remainder\",remainder)"
   ]
  },
  {
   "cell_type": "code",
   "execution_count": 6,
   "metadata": {},
   "outputs": [],
   "source": [
    "# Write a program to calculate simple interst , si =p*n*r/100"
   ]
  },
  {
   "cell_type": "code",
   "execution_count": 5,
   "metadata": {},
   "outputs": [
    {
     "name": "stdin",
     "output_type": "stream",
     "text": [
      "Enter the principal: 10000\n",
      "Enter the Time: 2\n",
      "Enter the Rate of interest: 2\n"
     ]
    },
    {
     "name": "stdout",
     "output_type": "stream",
     "text": [
      "simple interest is equal to 400.0 .\n"
     ]
    }
   ],
   "source": [
    "\n",
    "\n",
    "principal = int(input(\"Enter the principal:\"))\n",
    "Time =  int(input(\"Enter the Time:\"))\n",
    "Intrest = int(input(\"Enter the Rate of interest:\"))\n",
    " \n",
    "SI = principal * Time * Intrest /100\n",
    "print(f\"simple interest is equal to {SI} .\")"
   ]
  },
  {
   "cell_type": "code",
   "execution_count": 7,
   "metadata": {},
   "outputs": [],
   "source": [
    "# Write a program to calculate the area and circumference of a circle ,area=3.14*radius*radius , circumference=2*3.14*r"
   ]
  },
  {
   "cell_type": "code",
   "execution_count": 7,
   "metadata": {},
   "outputs": [
    {
     "name": "stdin",
     "output_type": "stream",
     "text": [
      "enter the radius value: 01\n"
     ]
    },
    {
     "name": "stdout",
     "output_type": "stream",
     "text": [
      " circumference of circle 6.284\n"
     ]
    },
    {
     "name": "stdin",
     "output_type": "stream",
     "text": [
      "enter the radius value: 10\n"
     ]
    },
    {
     "name": "stdout",
     "output_type": "stream",
     "text": [
      "Area of circle is equal to 314.2\n"
     ]
    }
   ],
   "source": [
    "radius = float(input(\"enter the radius value:\"))\n",
    "\n",
    "circumference = 2*3.142*radius\n",
    "print(\" circumference of circle\",circumference)\n",
    "\n",
    "\n",
    "radius = float(input(\"enter the radius value:\"))\n",
    "b= radius**2\n",
    "Area = 3.142 * b\n",
    "print(\"Area of circle is equal to\", Area )\n",
    "\n"
   ]
  },
  {
   "cell_type": "code",
   "execution_count": 8,
   "metadata": {},
   "outputs": [],
   "source": [
    "# Write a program to convert Celcius to Fariehiet , fariienhiet=1.8*celcius+32"
   ]
  },
  {
   "cell_type": "code",
   "execution_count": 15,
   "metadata": {},
   "outputs": [
    {
     "name": "stdin",
     "output_type": "stream",
     "text": [
      "Enter the celsius  37\n"
     ]
    },
    {
     "name": "stdout",
     "output_type": "stream",
     "text": [
      "98.60000000000001\n"
     ]
    }
   ],
   "source": [
    "c=float(input((\"Enter the celsius \")))\n",
    "\n",
    "fariienhiet=1.8*c+32\n",
    "print(fariienhiet)"
   ]
  },
  {
   "cell_type": "code",
   "execution_count": 9,
   "metadata": {},
   "outputs": [],
   "source": [
    "# Write a program to find whether given number is odd or even"
   ]
  },
  {
   "cell_type": "code",
   "execution_count": 16,
   "metadata": {},
   "outputs": [
    {
     "name": "stdin",
     "output_type": "stream",
     "text": [
      "enter the nuber 10\n"
     ]
    },
    {
     "name": "stdout",
     "output_type": "stream",
     "text": [
      "The number is Even\n"
     ]
    }
   ],
   "source": [
    "a= int(input(\"enter the number\"))\n",
    "b=a%2\n",
    "if b==0:\n",
    "    print(\"The number is Even\")\n",
    "else:\n",
    "    print(\"The number is odd\")"
   ]
  },
  {
   "cell_type": "code",
   "execution_count": 10,
   "metadata": {},
   "outputs": [],
   "source": [
    "# Write a program to check whether the person can vote or not"
   ]
  },
  {
   "cell_type": "code",
   "execution_count": 17,
   "metadata": {},
   "outputs": [
    {
     "name": "stdin",
     "output_type": "stream",
     "text": [
      "enter the age 10\n"
     ]
    },
    {
     "name": "stdout",
     "output_type": "stream",
     "text": [
      "Better luck once you are 18\n"
     ]
    }
   ],
   "source": [
    "a=int(input(\"enter the age\"))\n",
    "if a>=18:\n",
    "      print(\"You are eligeble to Vote\")\n",
    "else:\n",
    "    print(\"Better luck once you are 18\")"
   ]
  },
  {
   "cell_type": "code",
   "execution_count": 11,
   "metadata": {},
   "outputs": [],
   "source": [
    "# Write a program to find whether the given number is odd or even"
   ]
  },
  {
   "cell_type": "code",
   "execution_count": null,
   "metadata": {},
   "outputs": [],
   "source": [
    "a= int(input(\"enter the number\"))\n",
    "b=a%2\n",
    "if b==0:\n",
    "    print(\"The number is Even\")\n",
    "else:\n",
    "    print(\"The number is odd\")"
   ]
  },
  {
   "cell_type": "code",
   "execution_count": 12,
   "metadata": {},
   "outputs": [],
   "source": [
    "# Write a program to find whether the given year is leap year or not ?"
   ]
  },
  {
   "cell_type": "code",
   "execution_count": 23,
   "metadata": {},
   "outputs": [
    {
     "name": "stdin",
     "output_type": "stream",
     "text": [
      "enter the year 2024\n"
     ]
    },
    {
     "name": "stdout",
     "output_type": "stream",
     "text": [
      "2024 is a leap year\n"
     ]
    }
   ],
   "source": [
    "a= int(input(\"enter the year\"))\n",
    "b= a%4\n",
    "if b==0:\n",
    "    print(f\"{a} is a leap year\")\n",
    "else:\n",
    "    print(f\"{a} is not a leap year\")"
   ]
  },
  {
   "cell_type": "code",
   "execution_count": 27,
   "metadata": {},
   "outputs": [
    {
     "name": "stdin",
     "output_type": "stream",
     "text": [
      "enter the first number 10\n",
      "enter the second number 20\n",
      "enter the third number 30\n"
     ]
    },
    {
     "name": "stdout",
     "output_type": "stream",
     "text": [
      "largest 30\n"
     ]
    }
   ],
   "source": [
    "a=input(\"enter the first number\")\n",
    "b=input(\"enter the second number\")\n",
    "c=input(\"enter the third number\")\n",
    "largest = max(a,b,c)\n",
    "print(\"largest\",largest)"
   ]
  },
  {
   "cell_type": "code",
   "execution_count": null,
   "metadata": {},
   "outputs": [],
   "source": []
  }
 ],
 "metadata": {
  "kernelspec": {
   "display_name": "Python 3 (ipykernel)",
   "language": "python",
   "name": "python3"
  },
  "language_info": {
   "codemirror_mode": {
    "name": "ipython",
    "version": 3
   },
   "file_extension": ".py",
   "mimetype": "text/x-python",
   "name": "python",
   "nbconvert_exporter": "python",
   "pygments_lexer": "ipython3",
   "version": "3.12.7"
  }
 },
 "nbformat": 4,
 "nbformat_minor": 4
}
