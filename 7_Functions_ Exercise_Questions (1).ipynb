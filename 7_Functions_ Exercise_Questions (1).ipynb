{
 "cells": [
  {
   "cell_type": "code",
   "execution_count": 1,
   "metadata": {},
   "outputs": [
    {
     "name": "stdout",
     "output_type": "stream",
     "text": [
      "2 hour is equal to 120 minutes\n"
     ]
    }
   ],
   "source": [
    "# Write a function to hours to minutes , user should able to give hours as input\n",
    "\n",
    "# your Answer\n",
    "\n",
    "\n",
    "\n",
    "def hourstomin(x):\n",
    "    y=x*60\n",
    "    print(f\"{x} hour is equal to {y} minutes\")\n",
    " \n",
    "hourstomin(2)"
   ]
  },
  {
   "cell_type": "code",
   "execution_count": 2,
   "metadata": {},
   "outputs": [
    {
     "name": "stdout",
     "output_type": "stream",
     "text": [
      "2 hours equals to 4 minutes\n"
     ]
    }
   ],
   "source": [
    "hrstominscalc(2)"
   ]
  },
  {
   "cell_type": "code",
   "execution_count": 2,
   "metadata": {},
   "outputs": [
    {
     "name": "stdout",
     "output_type": "stream",
     "text": [
      "100 centimeter equal to 1.0 meter\n"
     ]
    }
   ],
   "source": [
    "# Write a function to convert centimeter to meter , user shoulb be able to give centimeter as input\n",
    "# your Answer\n",
    "\n",
    "\n",
    "\n",
    "def cmtomtr(x):\n",
    "    y=x/100\n",
    "    print(f\"{x} centimeter equal to {y} meter\")\n",
    " \n",
    "cmtomtr(100)\n",
    "\n",
    "\n",
    "\n"
   ]
  },
  {
   "cell_type": "code",
   "execution_count": 5,
   "metadata": {},
   "outputs": [],
   "source": [
    "# Write a function to convert miles to Kilometer , user shoulb be able to give miles as input\n",
    "\n",
    "# your Answer\n",
    "\n",
    "\n",
    "\n",
    "\n",
    "\n",
    "def milsntokms(x):\n",
    "\n",
    "    y=x*1.60934\n",
    "\n",
    "    print(f\"{x} miles equal to {y} kilometer\")\n",
    " \n",
    "milsntokms(2)\n",
    "\n",
    "\n"
   ]
  },
  {
   "cell_type": "code",
   "execution_count": 6,
   "metadata": {},
   "outputs": [],
   "source": [
    "# Write a function to convert pounds to Kilogram , user shoulb be able to give pounds as input\n",
    "# your Answer\n",
    "\n",
    "\n",
    "\n",
    "\n",
    " \n",
    " \n",
    "def poudtokilogrm(x):\n",
    "\n",
    "    y=x*0.45359237\n",
    "\n",
    "    print(f\"{x} pounds equal to {y} Kilogram \")\n",
    " \n",
    "poudtokilogrm(2)\n",
    " \n",
    "\n",
    "\n"
   ]
  },
  {
   "cell_type": "code",
   "execution_count": 7,
   "metadata": {},
   "outputs": [],
   "source": [
    "# Write a function to calculate simple interest # all input shoulb be given by the user\n",
    "\n",
    "# your Answer\n",
    " \n",
    " \n",
    "def si(P,T,R):\n",
    "\n",
    "    SI=(P*T*R)/100\n",
    "\n",
    "    print(f\"SI is equal to {SI}\")\n",
    " \n",
    "si(1000,3,5)\n",
    " \n",
    "\n"
   ]
  },
  {
   "cell_type": "code",
   "execution_count": 4,
   "metadata": {},
   "outputs": [
    {
     "name": "stdin",
     "output_type": "stream",
     "text": [
      "enter the radius of cicrle 10\n"
     ]
    },
    {
     "name": "stdout",
     "output_type": "stream",
     "text": [
      "Area of circle is 314.2\n"
     ]
    }
   ],
   "source": [
    "# Write a function to calculate area of circle\n",
    "# your Answer\n",
    "\n",
    "\n",
    "\n",
    "\n",
    "def areaofcir():\n",
    "\n",
    "    r=float(input(\"enter the radius of cicrle\"))\n",
    "\n",
    "    area=3.142*r*r\n",
    "\n",
    "    print(f\"Area of circle is {area}\")\n",
    " \n",
    "areaofcir()\n",
    "\n",
    "\n"
   ]
  },
  {
   "cell_type": "code",
   "execution_count": 3,
   "metadata": {},
   "outputs": [
    {
     "name": "stdin",
     "output_type": "stream",
     "text": [
      "enter the radius of cicrle 10\n"
     ]
    },
    {
     "name": "stdout",
     "output_type": "stream",
     "text": [
      "Area of circle is 62.839999999999996\n"
     ]
    }
   ],
   "source": [
    "# Write a function to calculate circumference of circle\n",
    "# your Answer\n",
    "\n",
    "\n",
    "def circumference():\n",
    "\n",
    "    r=float(input(\"enter the radius of cicrle\"))\n",
    "\n",
    "    area=2*3.142*r\n",
    "\n",
    "    print(f\"Area of circle is {area}\")\n",
    " \n",
    "circumference()\n",
    " \n",
    "\n",
    "\n",
    "\n",
    "\n"
   ]
  },
  {
   "cell_type": "code",
   "execution_count": 5,
   "metadata": {},
   "outputs": [
    {
     "name": "stdin",
     "output_type": "stream",
     "text": [
      "enter the perimeter of square 10\n"
     ]
    },
    {
     "name": "stdout",
     "output_type": "stream",
     "text": [
      "  perimeter of square40.0\n"
     ]
    }
   ],
   "source": [
    "# Write a function to calculate perimeter of square\n",
    "# your Answer\n",
    "\n",
    "\n",
    "\n",
    "\n",
    "\n",
    "\n",
    "\n",
    "def perimeter():\n",
    "\n",
    "    a=float(input(\"enter the perimeter of square\"))\n",
    "\n",
    "    area=4*a\n",
    "\n",
    "    print(f\"  perimeter of square{area}\")\n",
    " \n",
    "perimeter()\n"
   ]
  },
  {
   "cell_type": "code",
   "execution_count": 6,
   "metadata": {},
   "outputs": [
    {
     "name": "stdin",
     "output_type": "stream",
     "text": [
      "enter the  area of square 10\n"
     ]
    },
    {
     "name": "stdout",
     "output_type": "stream",
     "text": [
      "  area of square100.0\n"
     ]
    }
   ],
   "source": [
    "# Write a fucntion to calculate area of square\n",
    "# your Answer\n",
    "\n",
    "\n",
    "\n",
    "\n",
    "\n",
    "def square():\n",
    "\n",
    "    a=float(input(\"enter the  area of square\"))\n",
    "\n",
    "    area=a*a\n",
    "\n",
    "    print(f\"  area of square{area}\")\n",
    " \n",
    "square()\n",
    "\n",
    "\n"
   ]
  },
  {
   "cell_type": "code",
   "execution_count": 7,
   "metadata": {},
   "outputs": [
    {
     "name": "stdin",
     "output_type": "stream",
     "text": [
      "enter the base length 10\n",
      "enter the height length 10\n"
     ]
    },
    {
     "name": "stdout",
     "output_type": "stream",
     "text": [
      "The area of triangle is 50.0\n"
     ]
    }
   ],
   "source": [
    "# Write a function to area of traingle\n",
    "# your Answer\n",
    "\n",
    "\n",
    "def areatri():\n",
    "    base=float(input(\"enter the base length\"))\n",
    "    height=float(input(\"enter the height length\"))\n",
    "    area=0.5*(base*height)\n",
    "    print(f\"The area of triangle is {area}\")\n",
    " \n",
    "areatri()\n",
    "\n",
    "\n",
    "\n",
    "\n"
   ]
  },
  {
   "cell_type": "code",
   "execution_count": null,
   "metadata": {},
   "outputs": [],
   "source": []
  }
 ],
 "metadata": {
  "kernelspec": {
   "display_name": "Python 3 (ipykernel)",
   "language": "python",
   "name": "python3"
  },
  "language_info": {
   "codemirror_mode": {
    "name": "ipython",
    "version": 3
   },
   "file_extension": ".py",
   "mimetype": "text/x-python",
   "name": "python",
   "nbconvert_exporter": "python",
   "pygments_lexer": "ipython3",
   "version": "3.12.7"
  }
 },
 "nbformat": 4,
 "nbformat_minor": 4
}
