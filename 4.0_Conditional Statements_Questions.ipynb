{
 "cells": [
  {
   "cell_type": "code",
   "execution_count": 5,
   "metadata": {},
   "outputs": [
    {
     "name": "stdout",
     "output_type": "stream",
     "text": [
      "This is a odd number\n"
     ]
    }
   ],
   "source": [
    "# Write a program to find given number is odd or even \n",
    "x = 45\n",
    "#Your Answer\n",
    "\n",
    "\n",
    "\n",
    "\n",
    "if x%2==0:\n",
    "\n",
    "    print(\"This is a even number\")\n",
    "\n",
    "else:\n",
    "\n",
    "    print(\"This is a odd number\")\n",
    " \n",
    "\n",
    "\n"
   ]
  },
  {
   "cell_type": "code",
   "execution_count": 1,
   "metadata": {},
   "outputs": [
    {
     "name": "stdin",
     "output_type": "stream",
     "text": [
      "enter the year 2024\n"
     ]
    },
    {
     "name": "stdout",
     "output_type": "stream",
     "text": [
      "2024 is a leap yaer\n"
     ]
    }
   ],
   "source": [
    "#Write a program to find the given year is leap year or not\n",
    "year = 2020\n",
    "#Your Answer\n",
    "\n",
    "a= int(input(\"enter the year\"))\n",
    "b= a%4\n",
    "if b==0:\n",
    "    print(f\"{a} is a leap yaer\")\n",
    "else:\n",
    "    print(f\"{a} is not a leap yaer\")\n",
    "\n",
    "\n",
    "\n",
    "\n"
   ]
  },
  {
   "cell_type": "code",
   "execution_count": 4,
   "metadata": {},
   "outputs": [
    {
     "name": "stdin",
     "output_type": "stream",
     "text": [
      "enter the year: 21\n"
     ]
    },
    {
     "name": "stdout",
     "output_type": "stream",
     "text": [
      "You are eligble to Vote:\n"
     ]
    }
   ],
   "source": [
    "# Write a program to print \"You can Vote\" or \"You Cannot Vote\n",
    "\n",
    "\n",
    "\n",
    "year=int(input(\"enter the year:\"))\n",
    "if (year >= 18):\n",
    "    print(\"You are eligble to Vote:\")\n",
    "else:\n",
    "    print(\"Better luck once you are 18\")\n",
    "\n",
    "\n",
    "\n"
   ]
  },
  {
   "cell_type": "code",
   "execution_count": 3,
   "metadata": {},
   "outputs": [
    {
     "name": "stdin",
     "output_type": "stream",
     "text": [
      "enter the first number 10\n",
      "enter the second number 20\n",
      "enter the third number 30\n"
     ]
    },
    {
     "name": "stdout",
     "output_type": "stream",
     "text": [
      "this is largest number30\n"
     ]
    }
   ],
   "source": [
    "# Write a program to find greatest of three numbers\n",
    "\n",
    "\n",
    "\n",
    "\n",
    "a=input(\"enter the first number\")\n",
    "b=input(\"enter the second number\")\n",
    "c=input(\"enter the third number\")\n",
    " \n",
    "d=max(a,b,c)\n",
    "print(f\"this is largest number{d}\")\n",
    "\n",
    "\n"
   ]
  },
  {
   "cell_type": "code",
   "execution_count": 2,
   "metadata": {},
   "outputs": [
    {
     "name": "stdin",
     "output_type": "stream",
     "text": [
      "enter the first number 10\n",
      "enter the second number 500\n",
      "enter the third number 11\n"
     ]
    },
    {
     "name": "stdout",
     "output_type": "stream",
     "text": [
      "super\n"
     ]
    }
   ],
   "source": [
    "#Write a program to print \"Super\" if the sum of number is \"less\" than 1000 and \"great\" if the sum of number is greater than 1000\n",
    "\n",
    "a=int(input(\"enter the first number\"))\n",
    "b=int(input(\"enter the second number\"))\n",
    "c=int(input(\"enter the third number\"))\n",
    "if (a+b+c) <1000:\n",
    "    print(\"super\")\n",
    "else:\n",
    "    print(\"great\")"
   ]
  },
  {
   "cell_type": "code",
   "execution_count": null,
   "metadata": {},
   "outputs": [],
   "source": []
  }
 ],
 "metadata": {
  "kernelspec": {
   "display_name": "Python 3 (ipykernel)",
   "language": "python",
   "name": "python3"
  },
  "language_info": {
   "codemirror_mode": {
    "name": "ipython",
    "version": 3
   },
   "file_extension": ".py",
   "mimetype": "text/x-python",
   "name": "python",
   "nbconvert_exporter": "python",
   "pygments_lexer": "ipython3",
   "version": "3.12.7"
  }
 },
 "nbformat": 4,
 "nbformat_minor": 4
}
